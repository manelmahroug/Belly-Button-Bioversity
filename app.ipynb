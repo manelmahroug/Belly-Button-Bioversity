{
 "cells": [
  {
   "cell_type": "code",
   "execution_count": 1,
   "metadata": {
    "collapsed": true
   },
   "outputs": [],
   "source": [
    "# Dependencies\n",
    "import sqlalchemy\n",
    "from sqlalchemy.ext.automap import automap_base\n",
    "from sqlalchemy.orm import Session\n",
    "from sqlalchemy import create_engine, func, desc\n",
    "from flask import Flask, jsonify, render_template, request\n",
    "import csv"
   ]
  },
  {
   "cell_type": "code",
   "execution_count": 2,
   "metadata": {
    "collapsed": true
   },
   "outputs": [],
   "source": [
    "# Create App\n",
    "app = Flask(__name__)\n",
    "\n",
    "# Connect to sqlite database\n",
    "engine = create_engine(\"sqlite:///DataSets/belly_button_biodiversity.sqlite\")\n",
    "Base = automap_base()\n",
    "Base.prepare(engine, reflect=True)\n",
    "session = Session(engine)\n",
    "\n",
    "# Storing tables\n",
    "Otu = Base.classes.otu\n",
    "Samples = Base.classes.samples\n",
    "Samples_Metadata = Base.classes.samples_metadata\n"
   ]
  },
  {
   "cell_type": "code",
   "execution_count": 3,
   "metadata": {},
   "outputs": [],
   "source": [
    "# Returns the dashboard homepage\n",
    "@app.route(\"/\")\n",
    "def home():\n",
    "    return render_template(\"index.html\")"
   ]
  },
  {
   "cell_type": "code",
   "execution_count": 4,
   "metadata": {},
   "outputs": [],
   "source": [
    "# Returns a list of sample names in list format\n",
    "@app.route(\"/names\")\n",
    "def names():\n",
    "\n",
    "    # Empty list for sample ids\n",
    "    sample_ids = []\n",
    "    \n",
    "    # Grab metadata table\n",
    "    results = session.query(Samples_Metadata.SAMPLEID)\n",
    "\n",
    "    # Loop through query & grab ids\n",
    "    for result in results:\n",
    "        sample_ids.append(\"BB_\" + str(result[0]))\n",
    "\n",
    "    return jsonify(sample_ids)\n"
   ]
  },
  {
   "cell_type": "code",
   "execution_count": 5,
   "metadata": {
    "collapsed": true
   },
   "outputs": [],
   "source": [
    "# Returns a list of OTU descriptions\n",
    "@app.route(\"/otu\")\n",
    "def otu():\n",
    "\n",
    "    # Empty list for descriptions\n",
    "    otu_desc = []\n",
    "    \n",
    "    # Grab otu table\n",
    "    results = session.query(Otu.lowest_taxonomic_unit_found)\n",
    "\n",
    "    # Loop through query & grab descriptions\n",
    "    for result in results:\n",
    "        otu_desc.append(result[0])\n",
    "\n",
    "    return jsonify(otu_desc)\n"
   ]
  },
  {
   "cell_type": "code",
   "execution_count": 6,
   "metadata": {
    "collapsed": true
   },
   "outputs": [],
   "source": [
    "# Returns a json dictionary of sample metadata\n",
    "@app.route(\"/metadata/<sample>\")\n",
    "def metadata(sample):\n",
    "    \n",
    "    # Grab input\n",
    "    sample_id = int(sample.split(\"_\")[1])\n",
    "\n",
    "    # Empty dictionary for data\n",
    "    sample_metadata = {}\n",
    "\n",
    "    # Grab metadata table\n",
    "    samples = session.query(Samples_Metadata)\n",
    "\n",
    "    # Loop through query & grab info\n",
    "    for info in samples:\n",
    "        if (sample_id == info.SAMPLEID):\n",
    "            sample_metadata[\"AGE\"] = info.AGE\n",
    "            sample_metadata[\"BBTYPE\"] = info.BBTYPE\n",
    "            sample_metadata[\"ETHNICITY\"] = info.ETHNICITY\n",
    "            sample_metadata[\"GENDER\"] = info.GENDER\n",
    "            sample_metadata[\"LOCATION\"] = info.LOCATION\n",
    "            sample_metadata[\"SAMPLEID\"] = info.SAMPLEID\n",
    "\n",
    "    return jsonify(sample_metadata)\n"
   ]
  },
  {
   "cell_type": "code",
   "execution_count": 7,
   "metadata": {
    "collapsed": true
   },
   "outputs": [],
   "source": [
    "# Returns an integer value for the weekly washing frequency\n",
    "@app.route(\"/wfreq/<sample>\")\n",
    "def wfreq(sample):\n",
    "\n",
    "    # Grab input\n",
    "    sample_id = int(sample.split(\"_\")[1])\n",
    "\n",
    "    # Grab metadata table\n",
    "    results = session.query(Samples_Metadata)\n",
    "\n",
    "    # Loop through and grab wfreq\n",
    "    for result in results:\n",
    "        if (sample_id == result.SAMPLEID):\n",
    "            wfreq = result.WFREQ\n",
    "\n",
    "    return jsonify(wfreq)\n"
   ]
  },
  {
   "cell_type": "code",
   "execution_count": 8,
   "metadata": {
    "collapsed": true
   },
   "outputs": [],
   "source": [
    "# Returns a list of dictionaries containing sorted lists for 'otu_ids' and 'sample_values'\n",
    "@app.route(\"/samples/<sample>\")\n",
    "def samples(sample):\n",
    "\n",
    "    # Create sample query\n",
    "    sample_query = \"Samples.\" + sample\n",
    "\n",
    "    # Create empty dictionary & lists\n",
    "    samples_info = {}\n",
    "    otu_ids = []\n",
    "    sample_values = []\n",
    "\n",
    "    # Grab info\n",
    "    results = session.query(Samples.otu_id, sample_query).order_by(desc(sample_query))\n",
    "\n",
    "    # Loop through & append\n",
    "    for result in results:\n",
    "        otu_ids.append(result[0])\n",
    "        sample_values.append(result[1])\n",
    "\n",
    "    # Add to dictionary\n",
    "    samples_info = {\n",
    "        \"otu_ids\": otu_ids,\n",
    "        \"sample_values\": sample_values\n",
    "    }\n",
    "\n",
    "    return jsonify(samples_info)\n",
    "    \n",
    "\n"
   ]
  },
  {
   "cell_type": "code",
   "execution_count": 9,
   "metadata": {},
   "outputs": [
    {
     "name": "stderr",
     "output_type": "stream",
     "text": [
      " * Running on http://127.0.0.1:5000/ (Press CTRL+C to quit)\n",
      " * Restarting with stat\n"
     ]
    },
    {
     "ename": "SystemExit",
     "evalue": "1",
     "output_type": "error",
     "traceback": [
      "An exception has occurred, use %tb to see the full traceback.\n",
      "\u001b[0;31mSystemExit\u001b[0m\u001b[0;31m:\u001b[0m 1\n"
     ]
    },
    {
     "name": "stderr",
     "output_type": "stream",
     "text": [
      "/anaconda3/lib/python3.6/site-packages/IPython/core/interactiveshell.py:2870: UserWarning: To exit: use 'exit', 'quit', or Ctrl-D.\n",
      "  warn(\"To exit: use 'exit', 'quit', or Ctrl-D.\", stacklevel=1)\n"
     ]
    }
   ],
   "source": [
    "if __name__ == \"__main__\":\n",
    "    app.run(debug=True)"
   ]
  },
  {
   "cell_type": "code",
   "execution_count": null,
   "metadata": {
    "collapsed": true
   },
   "outputs": [],
   "source": []
  }
 ],
 "metadata": {
  "kernelspec": {
   "display_name": "Python [default]",
   "language": "python",
   "name": "python3"
  },
  "language_info": {
   "codemirror_mode": {
    "name": "ipython",
    "version": 3
   },
   "file_extension": ".py",
   "mimetype": "text/x-python",
   "name": "python",
   "nbconvert_exporter": "python",
   "pygments_lexer": "ipython3",
   "version": "3.6.3"
  }
 },
 "nbformat": 4,
 "nbformat_minor": 2
}
